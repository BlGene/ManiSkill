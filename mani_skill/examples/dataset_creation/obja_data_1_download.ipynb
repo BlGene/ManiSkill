{
 "cells": [
  {
   "cell_type": "code",
   "execution_count": null,
   "id": "eadbfafc-6da7-4688-be21-c4f15966313c",
   "metadata": {},
   "outputs": [],
   "source": [
    "#%pip install openai pydantic\n",
    "%load_ext autoreload\n",
    "%autoreload 2\n",
    "import os\n",
    "print(os.environ[\"OPENAI_API_KEY\"])\n",
    "from tqdm.notebook import tqdm\n",
    "from mani_skill.examples.objaverse_handler import SpokDatasetBuilder"
   ]
  },
  {
   "cell_type": "code",
   "execution_count": null,
   "id": "dc99b2df-3a22-499f-a1ce-e27661c66e88",
   "metadata": {},
   "outputs": [],
   "source": [
    "N_samples = 20_000\n",
    "spock_dataset = SpokDatasetBuilder(maximum_objects=N_samples)\n",
    "print(\"dataset size\", len(spock_dataset))"
   ]
  },
  {
   "cell_type": "code",
   "execution_count": null,
   "id": "7bb07ef0-912f-4041-87d9-6bc3db800809",
   "metadata": {},
   "outputs": [],
   "source": [
    "# Download models\n",
    "uids = sorted(spock_dataset.sample_uuids(N_samples))\n",
    "for uid in tqdm(uids):\n",
    "    #spock_dataset.get_spok_converted_glb_path(uid)\n",
    "    spock_dataset._download_spok(uid)"
   ]
  },
  {
   "cell_type": "code",
   "execution_count": null,
   "id": "88b8eb1e-d731-4780-8eae-50995247caf4",
   "metadata": {},
   "outputs": [],
   "source": [
    "have_description = []\n",
    "for uid in tqdm(uids):\n",
    "    description_path = spock_dataset.spok_models_path / uid / \"chatgpt_description.json\"\n",
    "    have_description.append(description_path.is_file())\n",
    "print(sum(have_description))"
   ]
  },
  {
   "cell_type": "code",
   "execution_count": null,
   "id": "2a155283-73f2-4d62-90c8-540fa0f1b95b",
   "metadata": {},
   "outputs": [],
   "source": [
    "from PIL import  Image\n",
    "#for uid in tqdm(uids):\n",
    "#    path = spock_dataset.spok_models_path / uid / \"chatgpt_description.json\"\n",
    "#    print(path.is_file())\n",
    "\n",
    "for uid in tqdm(uids):\n",
    "    description = spock_dataset.get_condensed_gpt_description(uid)\n",
    "    #image_files = sorted( list((spock_dataset.spok_models_path / uid / \"blender_renders\" ).iterdir()))\n",
    "    #display(Image.open(image_files[0]))"
   ]
  },
  {
   "cell_type": "code",
   "execution_count": null,
   "id": "467d1868-3833-4065-be5e-3da15c469e5f",
   "metadata": {},
   "outputs": [],
   "source": [
    "for uid in tqdm(uids):\n",
    "    print(spock_dataset.get_condensed_gpt_description(uid))"
   ]
  },
  {
   "cell_type": "code",
   "execution_count": null,
   "id": "9d13f7b7-7780-4254-bf47-85ff419d4ed4",
   "metadata": {},
   "outputs": [],
   "source": [
    "print(len(list(spock_dataset.spok_models_path.iterdir())))\n",
    "# Download 100 samples\n",
    "# Run gpt-description summary for them\n",
    "# See how common household item filer works"
   ]
  }
 ],
 "metadata": {
  "kernelspec": {
   "display_name": "Python 3 (ipykernel)",
   "language": "python",
   "name": "python3"
  },
  "language_info": {
   "codemirror_mode": {
    "name": "ipython",
    "version": 3
   },
   "file_extension": ".py",
   "mimetype": "text/x-python",
   "name": "python",
   "nbconvert_exporter": "python",
   "pygments_lexer": "ipython3",
   "version": "3.12.7"
  }
 },
 "nbformat": 4,
 "nbformat_minor": 5
}

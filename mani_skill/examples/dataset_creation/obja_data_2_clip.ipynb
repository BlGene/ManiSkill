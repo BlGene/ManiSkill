{
 "cells": [
  {
   "cell_type": "code",
   "execution_count": null,
   "id": "f4c16c13-2c9e-49d2-a408-835d73776538",
   "metadata": {},
   "outputs": [],
   "source": [
    "#%pip install openai pydantic\n",
    "%load_ext autoreload\n",
    "%autoreload 2\n",
    "import os\n",
    "from tqdm.notebook import tqdm\n",
    "from mani_skill.examples.objaverse_handler import SpokDatasetBuilder"
   ]
  },
  {
   "cell_type": "code",
   "execution_count": null,
   "id": "98c4477f-d4b9-44f5-88a8-90bfba4c7d26",
   "metadata": {},
   "outputs": [],
   "source": [
    "N_samples = 20_000\n",
    "spock_dataset = SpokDatasetBuilder(maximum_objects=N_samples)\n",
    "print(\"dataset size\", len(spock_dataset))"
   ]
  },
  {
   "cell_type": "code",
   "execution_count": null,
   "id": "ce3f4e2e-8913-476f-9554-b7cf0425d3c9",
   "metadata": {
    "scrolled": true
   },
   "outputs": [],
   "source": [
    "from PIL import  Image\n",
    "uids = sorted(spock_dataset.sample_uuids(N_samples))\n",
    "\n",
    "for uid in tqdm(uids):\n",
    "    print(spock_dataset.get_condensed_gpt_description(uid))\n",
    "    image_files = sorted( list((spock_dataset.spok_models_path / uid / \"blender_renders\" ).iterdir()))\n",
    "    display(Image.open(image_files[0]))\n",
    "    break\n"
   ]
  },
  {
   "cell_type": "code",
   "execution_count": null,
   "id": "03f64304-cf4a-4c24-85bf-53b6e6a094c9",
   "metadata": {},
   "outputs": [],
   "source": [
    "from PIL import Image\n",
    "import requests\n",
    "from transformers import AutoProcessor, AutoModel\n",
    "import torch\n",
    "\n",
    "model = AutoModel.from_pretrained(\"google/siglip-base-patch16-224\")\n",
    "processor = AutoProcessor.from_pretrained(\"google/siglip-base-patch16-224\")"
   ]
  },
  {
   "cell_type": "code",
   "execution_count": null,
   "id": "0a89716f-fadf-42d9-8745-3c3b0408c26a",
   "metadata": {},
   "outputs": [],
   "source": [
    "import json\n",
    "# get files with description\n",
    "have_description = []\n",
    "for uid in tqdm(uids):\n",
    "    description_path = spock_dataset.spok_models_path / uid / \"chatgpt_description.json\"\n",
    "    if description_path.is_file():\n",
    "        have_description.append(uid)\n",
    "\n",
    "# get files with scored descriptions\n",
    "scored_descr = spock_dataset.spok_root_path / \"clip_description.jsonl\"\n",
    "scored_uids = []\n",
    "\n",
    "print(scored_descr)\n",
    "if not scored_descr.is_file():\n",
    "    open(scored_descr, 'a').close()\n",
    "else:\n",
    "    with open(scored_descr, \"r\") as f_obj:\n",
    "        for line in f_obj:\n",
    "            data = json.loads(line)  # Parse each line as a JSON object\n",
    "            if \"uid\" in data:  # Check if 'uid' key exists\n",
    "                scored_uids.append(data[\"uid\"])\n",
    "\n",
    "print(\"descrd uids\", len(have_description))\n",
    "print(\"scored uids\", len(scored_uids))\n",
    "to_score_uids = set(have_description) - set(scored_uids)\n",
    "print(\"to score:\", len(to_score_uids))"
   ]
  },
  {
   "cell_type": "code",
   "execution_count": null,
   "id": "2b66a7e4-29f1-4e67-ab5a-06b7821490bd",
   "metadata": {},
   "outputs": [],
   "source": [
    "import json\n",
    "new_entries = []\n",
    "\n",
    "for uid in tqdm(to_score_uids):\n",
    "    image_files = sorted( list((spock_dataset.spok_models_path / uid / \"blender_renders\" ).iterdir()))\n",
    "    image = Image.open(image_files[0])\n",
    "    descriptions = spock_dataset.get_condensed_gpt_description(uid).values()\n",
    "    descriptions = [x.lower() for x in descriptions if type(x) is str]\n",
    "\n",
    "    descr_texts = [f'This is a picture of a {label}.' for label in descriptions]\n",
    "    extra_texts = [\"grayscale image\", \"cartoon low-poly model\"]\n",
    "\n",
    "    texts = descr_texts + extra_texts\n",
    "    inputs = processor(text=texts, images=image, padding=\"max_length\", return_tensors=\"pt\")\n",
    "    \n",
    "    with torch.no_grad():\n",
    "        outputs = model(**inputs)\n",
    "    logits_per_image = outputs.logits_per_image[0]\n",
    "\n",
    "    entry = {\"uid\":uid, \"description\": {}, \"quality\": {}}\n",
    "    for label, logit in zip(descriptions + extra_texts, logits_per_image):\n",
    "        is_descr = label not in extra_texts\n",
    "        if is_descr:\n",
    "            entry[\"description\"][label] = round(float(logit), 2)\n",
    "        else:\n",
    "            entry[\"quality\"][label] = round(float(logit), 2)\n",
    "    \n",
    "    new_entries.append(entry)\n",
    "    if len(new_entries) > 50:\n",
    "        display(image)\n",
    "        print(entry)\n",
    "        \n",
    "        with open(scored_descr, \"a\") as f_obj:\n",
    "            for entry in new_entries:\n",
    "                f_obj.write(json.dumps(entry) + \"\\n\")\n",
    "        new_entries = []"
   ]
  },
  {
   "cell_type": "code",
   "execution_count": null,
   "id": "2ece0681-bd79-45fc-966c-35763c27604f",
   "metadata": {},
   "outputs": [],
   "source": [
    "with open(scored_descr, \"a\") as f_obj:\n",
    "    for entry in new_entries:\n",
    "        f_obj.write(json.dumps(entry) + \"\\n\")\n"
   ]
  },
  {
   "cell_type": "code",
   "execution_count": null,
   "id": "3bd7f41c-7090-485f-9606-2a84f72bbdbb",
   "metadata": {},
   "outputs": [],
   "source": []
  }
 ],
 "metadata": {
  "kernelspec": {
   "display_name": "Python 3 (ipykernel)",
   "language": "python",
   "name": "python3"
  },
  "language_info": {
   "codemirror_mode": {
    "name": "ipython",
    "version": 3
   },
   "file_extension": ".py",
   "mimetype": "text/x-python",
   "name": "python",
   "nbconvert_exporter": "python",
   "pygments_lexer": "ipython3",
   "version": "3.12.7"
  }
 },
 "nbformat": 4,
 "nbformat_minor": 5
}

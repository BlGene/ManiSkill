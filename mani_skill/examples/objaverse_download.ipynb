{
  "cells": [
    {
      "cell_type": "markdown",
      "metadata": {
        "id": "zn7g17hc3ADi"
      },
      "source": [
        "# Objaverse-XL API Tutorial\n",
        "\n",
        "Objaverse-XL is a Universe of 10M+ 3D Objects.\n",
        "\n",
        "It is hosted on 🤗[Hugging Face](https://huggingface.co/datasets/allenai/objaverse-xl) and includes a [Python API on GitHub](https://github.com/allenai/objaverse-xl). This notebook provides a tutorial on downloading objects and annotations!\n",
        "\n",
        "We'll get started by downloading the `objaverse` package from PyPi, which will allow us to easily download subsets of the dataset:"
      ]
    },
    {
      "cell_type": "code",
      "execution_count": null,
      "metadata": {
        "colab": {
          "base_uri": "https://localhost:8080/",
          "height": 37
        },
        "id": "wLB-BPGqGi2e",
        "outputId": "847c0b41-a4f7-413b-9af2-c0746ff64205"
      },
      "outputs": [],
      "source": [
        "!pip install objaverse --upgrade --quiet\n",
        "\n",
        "import objaverse\n",
        "objaverse.__version__"
      ]
    },
    {
      "cell_type": "code",
      "execution_count": 2,
      "metadata": {
        "id": "3k9kk352jAcE"
      },
      "outputs": [],
      "source": [
        "import objaverse\n",
        "annotations2 = objaverse.load_lvis_annotations()\n",
        "counts = [(k,len(v)) for k,v in annotations2.items()]"
      ]
    },
    {
      "cell_type": "code",
      "execution_count": null,
      "metadata": {},
      "outputs": [],
      "source": [
        "# select N_categories objects\n",
        "N_categories = 100\n",
        "print(len(counts))\n",
        "sum([v for k, v in counts])\n",
        "collection = []\n",
        "i = 0\n",
        "for i, (k, v) in enumerate(annotations2.items()):\n",
        "  if i >= N_categories:\n",
        "    break\n",
        "  collection.append(v[0])\n",
        "print(collection)"
      ]
    },
    {
      "cell_type": "code",
      "execution_count": null,
      "metadata": {},
      "outputs": [],
      "source": [
        "results = objaverse.load_objects(collection)"
      ]
    },
    {
      "cell_type": "markdown",
      "metadata": {},
      "source": [
        "# Done!\n",
        "The rest of the cells are from the old tutorial"
      ]
    }
  ],
  "metadata": {
    "colab": {
      "provenance": []
    },
    "kernelspec": {
      "display_name": "paligemma",
      "language": "python",
      "name": "python3"
    },
    "language_info": {
      "codemirror_mode": {
        "name": "ipython",
        "version": 3
      },
      "file_extension": ".py",
      "mimetype": "text/x-python",
      "name": "python",
      "nbconvert_exporter": "python",
      "pygments_lexer": "ipython3",
      "version": "3.12.7"
    }
  },
  "nbformat": 4,
  "nbformat_minor": 0
}

{
 "cells": [
  {
   "cell_type": "markdown",
   "metadata": {
    "id": "zn7g17hc3ADi"
   },
   "source": [
    "# Objaverse Downloading Scrip\n",
    "\n",
    "Objaverse-XL is a Universe of 10M+ 3D Objects.\n",
    "It is hosted on 🤗[Hugging Face](https://huggingface.co/datasets/allenai/objaverse-xl) and includes a [Python API on GitHub](https://github.com/allenai/objaverse-xl).\n",
    "\n",
    "It's a bit difficult to get a dataset which is compatible for manipulation. There are a few subsets of Objaverse with additional annotations, such a Spock.\n",
    "\n",
    "See Spock [Readme](https://github.com/allenai/spoc-robot-training) and [notebook example](https://github.com/allenai/spoc-robot-training/blob/main/how_to_use_data.ipynb)\n"
   ]
  },
  {
   "cell_type": "code",
   "execution_count": null,
   "metadata": {},
   "outputs": [],
   "source": [
    "# !export OBJAVERSE_PATH=\"/data/lmbraid19/argusm/datasets/spok/\"\n",
    "# !python -m objathor.dataset.download_annotations --version 2023_07_28 --path $OBJAVERSE_PATH\n",
    "# !python -m objathor.dataset.download_assets --version 2023_07_28 --path $OBJAVERSE_PATH"
   ]
  },
  {
   "cell_type": "code",
   "execution_count": null,
   "metadata": {
    "colab": {
     "base_uri": "https://localhost:8080/",
     "height": 37
    },
    "id": "wLB-BPGqGi2e",
    "outputId": "847c0b41-a4f7-413b-9af2-c0746ff64205"
   },
   "outputs": [],
   "source": [
    "!pip install objaverse --upgrade --quiet\n",
    "import objaverse\n",
    "objaverse.__version__"
   ]
  },
  {
   "cell_type": "markdown",
   "metadata": {},
   "source": [
    "# Spock Annotations\n",
    "The rest of the cells are from the old tutorial"
   ]
  },
  {
   "cell_type": "code",
   "execution_count": null,
   "metadata": {},
   "outputs": [],
   "source": [
    "!pip install compress_json\n",
    "import pprint \n",
    "import compress_json\n",
    "import objaverse\n",
    "from IPython.display import Image, display\n",
    "\n",
    "pp = pprint.PrettyPrinter(indent=1)\n",
    "OBJAVERSE_ANNOTATIONS_PATH = \"/data/lmbraid19/argusm/datasets/spok/2023_07_28/annotations.json.gz\"\n",
    "annotations_spock = compress_json.load(OBJAVERSE_ANNOTATIONS_PATH)\n",
    "\n",
    "print_metadata = True\n",
    "if print_metadata:\n",
    "    # print the metadata\n",
    "    uid = '9d17119cc0f041e39b2a11211a677366'\n",
    "    uid = '584ce7acb3384c36bf252fde72063a56'\n",
    "    pp.pprint(annotations_spock[uid])\n",
    "    \n",
    "    ann = objaverse.load_annotations([uid])\n",
    "    pp.pprint(ann[uid])"
   ]
  },
  {
   "cell_type": "markdown",
   "metadata": {},
   "source": [
    "## View ExamplesAnnotationsAnnotationsAnnotationsAnnotationsAnnotationsAnnotations"
   ]
  },
  {
   "cell_type": "code",
   "execution_count": null,
   "metadata": {},
   "outputs": [],
   "source": [
    "def print_spock_metadata(uid, metadata, extents):\n",
    "    print(\"uid\", uid)\n",
    "    print(\"category\", metadata[\"category\"])\n",
    "    print(\"descrip\", metadata[\"description\"])\n",
    "    print(\"descr-auto\", metadata[\"description_auto\"])\n",
    "    print(\"size\", metadata[\"size\"], \"scale\", metadata[\"scale\"], \"extents\",\" \".join([f\"{d:.0f}\" for d in extents]) + \" cm\")\n",
    "\n",
    "count = 0\n",
    "for i, (key, value) in enumerate(annotations_spock.items()):\n",
    "    anno_s = annotations_spock[key]\n",
    "    if \"thor_metadata\" not in anno_s:\n",
    "        continue\n",
    "        \n",
    "    bbox = anno_s['thor_metadata']['assetMetadata']['boundingBox']\n",
    "    extents = {\n",
    "        'x': bbox['max']['x'] - bbox['min']['x'],\n",
    "        'y': bbox['max']['y'] - bbox['min']['y'],\n",
    "        'z': bbox['max']['z'] - bbox['min']['z']\n",
    "    }\n",
    "    extents = [extents[d]*100 for d in list('xyz')]\n",
    "    if min(extents) < 2 or max(extents) > 50:\n",
    "        continue\n",
    "        \n",
    "    ann = objaverse.load_annotations([key])\n",
    "    url = ann[key]['thumbnails']['images'][0]['url']\n",
    "    print_spock_metadata(key, anno_s, extents)\n",
    "    display(Image(url=url, width=512))\n",
    "    print()\n",
    "\n",
    "    count += 1\n",
    "    #results = objaverse.load_objects([key])\n",
    "    if i > 100:\n",
    "        break\n",
    "\n",
    "print(\"pass rate\", count, \"/\", i)"
   ]
  },
  {
   "cell_type": "markdown",
   "metadata": {},
   "source": [
    "## Select objects and download\n",
    "\n",
    "This is done manually for now, but it should happen automatically."
   ]
  },
  {
   "cell_type": "code",
   "execution_count": null,
   "metadata": {},
   "outputs": [],
   "source": [
    "good_uids = ['412ed49af0644f30bae822d29afbb066',\n",
    "'93128128f8f848d8bd261f6c1f763a53',\n",
    "'b5c9d06f19be4c92a1708515f6655573',\n",
    "'584ce7acb3384c36bf252fde72063a56',\n",
    "'2796ec7a4a324d9e988d95d88bb6f1e2']\n",
    "\n",
    "res = objaverse.load_objects(good_uids)\n",
    "print(res)"
   ]
  },
  {
   "cell_type": "markdown",
   "metadata": {},
   "source": [
    "## Render in Simulation"
   ]
  },
  {
   "cell_type": "code",
   "execution_count": null,
   "metadata": {},
   "outputs": [],
   "source": [
    "%load_ext autoreload\n",
    "%autoreload 2\n",
    "import gymnasium as gym\n",
    "import mani_skill.examples.clevr_env  # do import to register env, not used otherwise\n",
    "from mani_skill.envs.sapien_env import BaseEnv\n",
    "from mani_skill.examples.gen_dataset import Args, reset_random\n",
    "import matplotlib.pyplot as plt \n",
    "    \n",
    "args = Args()\n",
    "args.env_id = \"ClevrMove-v1\"\n",
    "#args.shader = \"rt-fast\" or \"rt\"\n",
    "#args.seed = [42,]\n",
    "reset_random(args)\n",
    "\n",
    "vis = False\n",
    "env: BaseEnv = gym.make(\n",
    "    args.env_id,\n",
    "    obs_mode=args.obs_mode,\n",
    "    reward_mode=args.reward_mode,\n",
    "    control_mode=args.control_mode,\n",
    "    render_mode=args.render_mode,\n",
    "    sensor_configs=dict(shader_pack=args.shader),\n",
    "    human_render_camera_configs=dict(shader_pack=args.shader),\n",
    "    viewer_camera_configs=dict(shader_pack=args.shader),\n",
    "    num_envs=args.num_envs,\n",
    "    sim_backend=args.sim_backend,\n",
    "    parallel_in_single_scene=False,\n",
    "    robot_uids=\"panda_wristcam\",\n",
    "    object_dataset=\"objaverse\",\n",
    "    scene_dataset=\"Table\",\n",
    "    # **args.env_kwargs\n",
    ")\n",
    "\n",
    "for i in range(10**6):\n",
    "    obs, _ = env.reset(seed=args.seed[0], options=dict(reconfigure=True))\n",
    "    if args.seed is not None:\n",
    "        env.action_space.seed(args.seed[0])\n",
    "    if vis and args.render_mode is not None:\n",
    "        viewer = env.render()\n",
    "        if isinstance(viewer, sapien.utils.Viewer):\n",
    "            viewer.paused = args.pause\n",
    "        env.render()\n",
    "    else:\n",
    "        env.render()\n",
    "    \n",
    "    # get before image\n",
    "    images = env.base_env.scene.get_human_render_camera_images('render_camera')\n",
    "    print(i)\n",
    "    plt.imshow(images['render_camera'][0].detach().cpu().numpy())\n",
    "    plt.show()\n",
    "    if i > 0:\n",
    "        break\n",
    "    reset_random(args)"
   ]
  },
  {
   "cell_type": "markdown",
   "metadata": {},
   "source": [
    "# [Old-Stuff] Load all objaverse UIDs"
   ]
  },
  {
   "cell_type": "code",
   "execution_count": null,
   "metadata": {},
   "outputs": [],
   "source": [
    "uids = objaverse.load_uids()\n",
    "len(uids), type(uids)"
   ]
  },
  {
   "cell_type": "code",
   "execution_count": null,
   "metadata": {},
   "outputs": [],
   "source": [
    "# This takes a couple of minutes\n",
    "annotations = objaverse.load_annotations(uids)"
   ]
  },
  {
   "cell_type": "code",
   "execution_count": null,
   "metadata": {
    "scrolled": true
   },
   "outputs": [],
   "source": [
    "import pprint \n",
    "for i, (key, annotation) in enumerate(annotations.items()):\n",
    "    pp.pprint(annotation)\n",
    "    #print(annotation[\"description\"])\n",
    "    if i > 2:\n",
    "        break"
   ]
  },
  {
   "cell_type": "markdown",
   "metadata": {},
   "source": [
    "# [Old-Stuff] LIVS Annotation Stuff\n",
    "\n",
    "LVIS was this subset of objaverse which hand proper annotations. I was looking at it before I found the Spock annotations."
   ]
  },
  {
   "cell_type": "code",
   "execution_count": null,
   "metadata": {
    "id": "3k9kk352jAcE"
   },
   "outputs": [],
   "source": [
    "import objaverse\n",
    "counts = [(k,len(v)) for k,v in annotations2.items()]"
   ]
  },
  {
   "cell_type": "code",
   "execution_count": null,
   "metadata": {},
   "outputs": [],
   "source": [
    "# select N_categories objects\n",
    "N_categories = 100\n",
    "print(len(counts))\n",
    "sum([v for k, v in counts])\n",
    "collection = []\n",
    "i = 0\n",
    "for i, (k, v) in enumerate(annotations2.items()):\n",
    "  if i >= N_categories:\n",
    "    break\n",
    "  collection.append(v[0])\n",
    "print(collection)"
   ]
  },
  {
   "cell_type": "code",
   "execution_count": null,
   "metadata": {},
   "outputs": [],
   "source": [
    "results = objaverse.load_objects(collection)"
   ]
  },
  {
   "cell_type": "markdown",
   "metadata": {},
   "source": [
    "### Object loading code, LVIS names"
   ]
  },
  {
   "cell_type": "code",
   "execution_count": null,
   "metadata": {},
   "outputs": [],
   "source": [
    "# glb_downloaded = [x.stem for x in glb_files]\n",
    "# glb_downloaded_set = set(glb_downloaded)            \n",
    "# anno_path = objaverse_folder / \"lvis-annotations.json.gz\"\n",
    "# import gzip, json\n",
    "# with gzip.open(anno_path, \"rt\", encoding=\"utf-8\") as f:\n",
    "#     lvis_annotations = json.load(f)\n",
    "# mapping = {}\n",
    "# for category, items in lvis_annotations.items():\n",
    "#     for index, item in enumerate(items, start=1):  # Use 1-based indexing\n",
    "#         if item not in glb_downloaded_set:\n",
    "#             continue\n",
    "#         mapping[f\"{category}-{index}\"] = glb_files[glb_downloaded.index(item)]\n",
    "# self.objaverse_model_ids = list(mapping.keys())\n",
    "# self.objaverse_files = mapping"
   ]
  }
 ],
 "metadata": {
  "colab": {
   "provenance": []
  },
  "kernelspec": {
   "display_name": "Python 3 (ipykernel)",
   "language": "python",
   "name": "python3"
  },
  "language_info": {
   "codemirror_mode": {
    "name": "ipython",
    "version": 3
   },
   "file_extension": ".py",
   "mimetype": "text/x-python",
   "name": "python",
   "nbconvert_exporter": "python",
   "pygments_lexer": "ipython3",
   "version": "3.12.7"
  }
 },
 "nbformat": 4,
 "nbformat_minor": 4
}
